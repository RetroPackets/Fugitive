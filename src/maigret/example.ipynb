{
 "cells": [
  {
   "cell_type": "code",
   "execution_count": null,
   "metadata": {
    "id": "8v6PEfyXb0Gx"
   },
   "outputs": [],
   "source": [
    "# clone the repo\n",
    "!git clone https://github.com/soxoj/maigret\n",
    "!pip3 install -r maigret/requirements.txt"
   ]
  },
  {
   "cell_type": "code",
   "execution_count": null,
   "metadata": {
    "id": "cXOQUAhDchkl"
   },
   "outputs": [],
   "source": [
    "# help\n",
    "!python3 maigret/maigret.py --help"
   ]
  },
  {
   "cell_type": "code",
   "execution_count": null,
   "metadata": {
    "id": "SjDmpN4QGnJu"
   },
   "outputs": [],
   "source": [
    "# search\n",
    "!python3 maigret/maigret.py user"
   ]
  }
 ],
 "metadata": {
  "colab": {
   "collapsed_sections": [],
   "include_colab_link": true,
   "name": "maigret.ipynb",
   "provenance": []
  },
  "kernelspec": {
   "display_name": "Python 3",
   "language": "python",
   "name": "python3"
  },
  "language_info": {
   "codemirror_mode": {
    "name": "ipython",
    "version": 3
   },
   "file_extension": ".py",
   "mimetype": "text/x-python",
   "name": "python",
   "nbconvert_exporter": "python",
   "pygments_lexer": "ipython3",
   "version": "3.7.10"
  }
 },
 "nbformat": 4,
 "nbformat_minor": 1
}
